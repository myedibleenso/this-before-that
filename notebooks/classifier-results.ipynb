{
 "cells": [
  {
   "cell_type": "code",
   "execution_count": 217,
   "metadata": {
    "collapsed": true
   },
   "outputs": [],
   "source": [
    "import os\n",
    "import sys\n",
    "module_path = os.path.abspath(os.path.join('../lstm'))\n",
    "if module_path not in sys.path:\n",
    "    sys.path.append(module_path)"
   ]
  },
  {
   "cell_type": "code",
   "execution_count": 218,
   "metadata": {
    "collapsed": false
   },
   "outputs": [],
   "source": [
    "from evaluate import *"
   ]
  },
  {
   "cell_type": "code",
   "execution_count": 219,
   "metadata": {
    "collapsed": false
   },
   "outputs": [
    {
     "name": "stdout",
     "output_type": "stream",
     "text": [
      "Results for LIN-SVM-L1\n",
      "Class\tP\tR\tF1\tTP\tFP\tFN\n",
      "E1 precedes E2\t0.49\t0.39\t0.43\t65\t68\t101\n",
      "E2 precedes E1\t0.0\t0.0\t0.0\t0\t4\t28\n",
      "None\t0.84\t0.91\t0.87\t652\t123\t66\n",
      "MACRO\t0.24\t0.2\t0.22\t65\t72\t129\n",
      "MICRO\t0.47\t0.34\t0.39\t65\t72\t129\n",
      "\n",
      "Results for LIN-SVM-L2\n",
      "Class\tP\tR\tF1\tTP\tFP\tFN\n",
      "E1 precedes E2\t0.53\t0.3\t0.38\t50\t45\t116\n",
      "E2 precedes E1\t0.25\t0.04\t0.06\t1\t3\t27\n",
      "None\t0.83\t0.94\t0.88\t674\t139\t44\n",
      "MACRO\t0.39\t0.17\t0.22\t51\t48\t143\n",
      "MICRO\t0.52\t0.26\t0.35\t51\t48\t143\n",
      "\n",
      "Results for LR-L1\n",
      "Class\tP\tR\tF1\tTP\tFP\tFN\n",
      "E1 precedes E2\t0.54\t0.36\t0.43\t60\t52\t106\n",
      "E2 precedes E1\t0.0\t0.0\t0.0\t0\t1\t28\n",
      "None\t0.84\t0.93\t0.88\t670\t129\t48\n",
      "MACRO\t0.27\t0.18\t0.22\t60\t53\t134\n",
      "MICRO\t0.53\t0.31\t0.39\t60\t53\t134\n",
      "\n",
      "Results for LR-L2\n",
      "Class\tP\tR\tF1\tTP\tFP\tFN\n",
      "E1 precedes E2\t0.59\t0.27\t0.37\t44\t31\t122\n",
      "E2 precedes E1\t0.0\t0.0\t0.0\t0\t2\t28\n",
      "None\t0.83\t0.96\t0.89\t689\t146\t29\n",
      "MACRO\t0.29\t0.13\t0.18\t44\t33\t150\n",
      "MICRO\t0.57\t0.23\t0.32\t44\t33\t150\n",
      "\n",
      "Results for RF\n",
      "Class\tP\tR\tF1\tTP\tFP\tFN\n",
      "E1 precedes E2\t0.57\t0.23\t0.33\t38\t29\t128\n",
      "E2 precedes E1\t0.5\t0.04\t0.07\t1\t1\t27\n",
      "None\t0.82\t0.96\t0.88\t688\t155\t30\n",
      "MACRO\t0.53\t0.13\t0.2\t39\t30\t155\n",
      "MICRO\t0.57\t0.2\t0.3\t39\t30\t155\n",
      "\n"
     ]
    }
   ],
   "source": [
    "import os\n",
    "for f in os.listdir(\".\"):\n",
    "    if \"-\" in f and f.endswith(\".tsv\") and \"old\" not in f:\n",
    "        model_name = f.split(\"-\", 1)[-1].replace(\".tsv\", \"\")\n",
    "        evaluator = Evaluator(f, \"None\")\n",
    "        results = evaluator.generate_scores_df().round(2)\n",
    "        print(\"Results for {}\".format(model_name.upper()))\n",
    "        print(results.to_csv(sep=\"\\t\", index=False))"
   ]
  }
 ],
 "metadata": {
  "kernelspec": {
   "display_name": "Python 3",
   "language": "python",
   "name": "python3"
  },
  "language_info": {
   "codemirror_mode": {
    "name": "ipython",
    "version": 3
   },
   "file_extension": ".py",
   "mimetype": "text/x-python",
   "name": "python",
   "nbconvert_exporter": "python",
   "pygments_lexer": "ipython3",
   "version": "3.5.1"
  }
 },
 "nbformat": 4,
 "nbformat_minor": 0
}

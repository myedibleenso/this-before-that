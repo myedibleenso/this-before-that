{
 "cells": [
  {
   "cell_type": "code",
   "execution_count": 1,
   "metadata": {
    "collapsed": false
   },
   "outputs": [],
   "source": [
    "import numpy as np\n",
    "import pandas as pd\n",
    "from ipywidgets import FloatProgress\n",
    "from IPython.display import display\n",
    "\n",
    "import os\n",
    "import sys\n",
    "\n",
    "module_path = os.path.abspath(os.path.join('../lstm'))\n",
    "if module_path not in sys.path:\n",
    "    sys.path.append(module_path)\n",
    "    \n",
    "from evaluate import *"
   ]
  },
  {
   "cell_type": "code",
   "execution_count": 2,
   "metadata": {
    "collapsed": false
   },
   "outputs": [],
   "source": [
    "num_samples = 10000"
   ]
  },
  {
   "cell_type": "code",
   "execution_count": 3,
   "metadata": {
    "collapsed": false
   },
   "outputs": [
    {
     "data": {
      "text/plain": [
       "0.018199999999999994"
      ]
     },
     "execution_count": 3,
     "metadata": {},
     "output_type": "execute_result"
    }
   ],
   "source": [
    "combined = \"./combined_prediction.tsv\"\n",
    "baseline = \"./SVM+L1.tsv\"\n",
    "cdf = pd.DataFrame.from_csv(combined, sep='\\t', index_col=False)\n",
    "bdf = pd.DataFrame.from_csv(baseline, sep='\\t', index_col=False)\n",
    "\n",
    "prog = FloatProgress(min=0, max=num_samples)\n",
    "display(prog)\n",
    "\n",
    "p = np.zeros(num_samples)\n",
    "\n",
    "for i in range(num_samples):\n",
    "    cdf_sample = cdf.sample(frac=1.0,replace=True)\n",
    "    mask = cdf_sample.index.values\n",
    "    bdf_sample = bdf.ix[mask]\n",
    "\n",
    "    baseline_eval = Evaluator(bdf_sample, \"None\")\n",
    "    exp_eval = Evaluator(cdf_sample, \"None\")\n",
    "\n",
    "    baseline_f1 = baseline_eval.micro()\n",
    "    exp_f1 = exp_eval.micro()\n",
    "    # test if experimental f1 is better than baseline for this sample\n",
    "    if (exp_f1 > baseline_f1):\n",
    "        p[i] = 1\n",
    "    prog.value += 1\n",
    "\n",
    "prog.close()\n",
    "\n",
    "1.0 - float(p.sum()) / float(num_samples)"
   ]
  }
 ],
 "metadata": {
  "kernelspec": {
   "display_name": "Python 3",
   "language": "python",
   "name": "python3"
  },
  "language_info": {
   "codemirror_mode": {
    "name": "ipython",
    "version": 3
   },
   "file_extension": ".py",
   "mimetype": "text/x-python",
   "name": "python",
   "nbconvert_exporter": "python",
   "pygments_lexer": "ipython3",
   "version": "3.4.4"
  }
 },
 "nbformat": 4,
 "nbformat_minor": 0
}

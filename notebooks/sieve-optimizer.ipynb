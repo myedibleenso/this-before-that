{
 "cells": [
  {
   "cell_type": "code",
   "execution_count": 11,
   "metadata": {
    "collapsed": false
   },
   "outputs": [],
   "source": [
    "import pandas as pd\n",
    "import os\n",
    "import sys\n",
    "module_path = os.path.abspath(os.path.join('../lstm'))\n",
    "if module_path not in sys.path:\n",
    "    sys.path.append(module_path)\n",
    "from evaluate import *\n",
    "import itertools\n",
    "from ipywidgets import FloatProgress\n",
    "from IPython.display import display\n",
    "import operator\n",
    "from collections import Counter\n",
    "from math import factorial\n",
    "from functools import reduce\n"
   ]
  },
  {
   "cell_type": "code",
   "execution_count": 2,
   "metadata": {
    "collapsed": false
   },
   "outputs": [],
   "source": [
    "column_dict = dict()\n",
    "for f in os.listdir(\".\"):\n",
    "    if f.endswith(\".tsv\") and f not in {\"all_sieves.tsv\", \"combined_prediction.tsv\", \"tmp.csv\"}:\n",
    "        model_name = f.replace(\".tsv\", \"\")\n",
    "        df = pd.DataFrame.from_csv(f, sep='\\t', index_col=False)\n",
    "        column_dict[\"Gold\"] = df.Gold.values\n",
    "        column_dict[model_name] = df.Predicted.values\n",
    "\n",
    "df = pd.DataFrame(column_dict)\n",
    "\n",
    "df.to_csv(\"all_sieves.tsv\", sep=\"\\t\", index=False)"
   ]
  },
  {
   "cell_type": "code",
   "execution_count": 39,
   "metadata": {
    "collapsed": false
   },
   "outputs": [],
   "source": [
    "df = pd.DataFrame.from_csv('all_sieves.tsv', sep='\\t', index_col=False)\n",
    "\n",
    "# in order of precision\n",
    "#sieve_order = ('RBW', 'LR+L2', 'RF', 'LR+L1', 'SVM+L1', 'SVM+L2', 'RBB', 'FLSTM', 'LSTM', 'LSTM+P', 'FLSTM+P')\n",
    "sieve_order = ('RBW', 'LR+L2', 'RF')\n",
    "\n",
    "def choose_first(row, sieves):\n",
    "    for sieve in sieves:\n",
    "        prediction = row[sieve]\n",
    "        if prediction != \"None\":\n",
    "            return prediction\n",
    "    return \"None\"\n",
    "\n",
    "df[\"Predicted\"] = df.apply(lambda x: choose_first(x, sieve_order), axis=1)\n",
    "\n",
    "combined = df[[\"Gold\", \"Predicted\"]]\n",
    "combined.to_csv('combined_prediction.tsv', sep='\\t', index=False)"
   ]
  },
  {
   "cell_type": "code",
   "execution_count": 40,
   "metadata": {
    "collapsed": false
   },
   "outputs": [
    {
     "name": "stdout",
     "output_type": "stream",
     "text": [
      "            Class     P     R    F1   TP   FP   FN\n",
      "0  E1 precedes E2  0.63  0.45  0.53   74   43   89\n",
      "1  E2 precedes E1  0.00  0.00  0.00    0    3   28\n",
      "2            None  0.86  0.94  0.90  671  113   42\n",
      "3           MACRO  0.32  0.23  0.26   74   46  117\n",
      "4           MICRO  0.62  0.39  0.48   74   46  117\n"
     ]
    }
   ],
   "source": [
    "evaluator = Evaluator(combined, \"None\")\n",
    "print(evaluator.generate_scores_df().round(2))"
   ]
  },
  {
   "cell_type": "code",
   "execution_count": 24,
   "metadata": {
    "collapsed": true
   },
   "outputs": [],
   "source": [
    "def calc_performance(df, sieves):\n",
    "    predictions = df.apply(lambda x: choose_first(x, sieves), axis=1)\n",
    "    combined = pd.DataFrame({'Gold': df.Gold.values, 'Predicted': predictions.values})\n",
    "    evaluator = Evaluator(combined, \"None\")\n",
    "    results = evaluator.generate_scores_df().round(2)\n",
    "#     print(results)\n",
    "    f1 = results.loc[4,\"F1\"]\n",
    "    return (sieves, f1)"
   ]
  },
  {
   "cell_type": "code",
   "execution_count": 6,
   "metadata": {
    "collapsed": true
   },
   "outputs": [],
   "source": [
    "df = pd.DataFrame.from_csv('all_sieves.tsv', sep='\\t', index_col=False)"
   ]
  },
  {
   "cell_type": "code",
   "execution_count": 12,
   "metadata": {
    "collapsed": false
   },
   "outputs": [],
   "source": [
    "def npermutations(l):\n",
    "    num = factorial(len(l))\n",
    "    mults = Counter(l).values()\n",
    "    den = reduce(operator.mul, (factorial(v) for v in mults), 1)\n",
    "    return num / den"
   ]
  },
  {
   "cell_type": "code",
   "execution_count": 29,
   "metadata": {
    "collapsed": false
   },
   "outputs": [
    {
     "name": "stdout",
     "output_type": "stream",
     "text": [
      "optimal sieve order: ('LR+L2', 'FLSTM', 'RF', 'RBB', 'RBW')\n",
      "best f1: 0.49\n"
     ]
    }
   ],
   "source": [
    "# sieve_order = ('RBW', 'RBB', 'LR+L2', 'RF', 'SVM+L1', 'FLSTM', 'LSTM', 'LSTM+P', 'FLSTM+P')\n",
    "# sieve_order = ('LR+L2', 'RF', 'SVM+L1', 'FLSTM', 'LSTM', 'LSTM+P', 'FLSTM+P')\n",
    "sieve_order = ('RBW', 'RBB', 'LR+L2', 'RF', 'FLSTM')\n",
    "\n",
    "total_permutations = 0\n",
    "for i in range(1,len(sieve_order)+1):\n",
    "    total_permutations = total_permutations + npermutations(sieve_order[0:i])\n",
    "\n",
    "performance = set()\n",
    "\n",
    "op = FloatProgress(min=1, max=total_permutations)\n",
    "display(op)\n",
    "for i in range(1,len(sieve_order)+1):\n",
    "    for p in itertools.permutations(sieve_order, r=i):\n",
    "        op.value = op.value + 1\n",
    "        (sieves, f1) = calc_performance(df, p)\n",
    "        performance.add((sieves, f1))\n",
    "\n",
    "(best_sieves, best_f1) = max(performance, key=lambda x: x[-1])\n",
    "\n",
    "print(\"optimal sieve order: {}\".format(best_sieves))\n",
    "print(\"best f1: {}\".format(best_f1))\n"
   ]
  },
  {
   "cell_type": "code",
   "execution_count": 30,
   "metadata": {
    "collapsed": false
   },
   "outputs": [
    {
     "name": "stdout",
     "output_type": "stream",
     "text": [
      "('LR+L2', 'FLSTM', 'RF', 'RBB', 'RBW') => 0.49\n",
      "('LR+L2', 'RBW', 'FLSTM', 'RBB', 'RF') => 0.49\n",
      "('RBW', 'RF', 'LR+L2', 'FLSTM', 'RBB') => 0.49\n",
      "('FLSTM', 'RBB', 'LR+L2', 'RBW', 'RF') => 0.49\n",
      "('FLSTM', 'RBB', 'RF', 'LR+L2') => 0.49\n",
      "('RBW', 'FLSTM', 'RF', 'LR+L2', 'RBB') => 0.49\n",
      "('RBB', 'RF', 'FLSTM', 'LR+L2') => 0.49\n",
      "('RBW', 'FLSTM', 'RF', 'LR+L2') => 0.49\n",
      "('RBB', 'FLSTM', 'RBW', 'RF', 'LR+L2') => 0.49\n",
      "('RBB', 'RBW', 'LR+L2', 'FLSTM', 'RF') => 0.49\n",
      "('FLSTM', 'RF', 'RBB', 'LR+L2', 'RBW') => 0.49\n",
      "('FLSTM', 'RF', 'LR+L2', 'RBB', 'RBW') => 0.49\n",
      "('RF', 'RBB', 'FLSTM', 'LR+L2', 'RBW') => 0.49\n",
      "('LR+L2', 'FLSTM', 'RBW', 'RF', 'RBB') => 0.49\n",
      "('LR+L2', 'RBW', 'RF', 'RBB', 'FLSTM') => 0.49\n",
      "('RBW', 'FLSTM', 'RBB', 'LR+L2', 'RF') => 0.49\n",
      "('RBW', 'FLSTM', 'LR+L2', 'RBB', 'RF') => 0.49\n",
      "('LR+L2', 'RBB', 'RF', 'FLSTM', 'RBW') => 0.49\n",
      "('LR+L2', 'RBB', 'FLSTM', 'RF', 'RBW') => 0.49\n",
      "('RF', 'RBB', 'FLSTM', 'RBW', 'LR+L2') => 0.49\n",
      "('FLSTM', 'LR+L2', 'RF', 'RBW') => 0.49\n",
      "('LR+L2', 'RF', 'RBW', 'FLSTM') => 0.49\n",
      "('RBW', 'RBB', 'RF', 'LR+L2', 'FLSTM') => 0.49\n",
      "('FLSTM', 'LR+L2', 'RF') => 0.49\n",
      "('FLSTM', 'RBW', 'LR+L2', 'RF', 'RBB') => 0.49\n",
      "('FLSTM', 'RBB', 'RF', 'LR+L2', 'RBW') => 0.49\n",
      "('RBB', 'LR+L2', 'RBW', 'FLSTM', 'RF') => 0.49\n",
      "('RF', 'LR+L2', 'FLSTM', 'RBW') => 0.49\n",
      "('LR+L2', 'FLSTM', 'RBW', 'RBB', 'RF') => 0.49\n",
      "('LR+L2', 'FLSTM', 'RBB', 'RBW', 'RF') => 0.49\n",
      "('RBB', 'LR+L2', 'RF', 'RBW', 'FLSTM') => 0.49\n",
      "('LR+L2', 'FLSTM', 'RF') => 0.49\n",
      "('FLSTM', 'RBB', 'RBW', 'RF', 'LR+L2') => 0.49\n",
      "('RF', 'FLSTM', 'RBW', 'LR+L2', 'RBB') => 0.49\n",
      "('RBW', 'RF', 'LR+L2', 'FLSTM') => 0.49\n",
      "('RF', 'FLSTM', 'LR+L2', 'RBW', 'RBB') => 0.49\n",
      "('RBW', 'LR+L2', 'RF', 'FLSTM', 'RBB') => 0.49\n",
      "('RF', 'LR+L2', 'RBW', 'FLSTM') => 0.49\n",
      "('RBW', 'LR+L2', 'FLSTM', 'RF', 'RBB') => 0.49\n",
      "('RBW', 'LR+L2', 'RBB', 'FLSTM', 'RF') => 0.49\n",
      "('RBB', 'RBW', 'RF', 'LR+L2', 'FLSTM') => 0.49\n",
      "('RBB', 'FLSTM', 'RBW', 'LR+L2', 'RF') => 0.49\n",
      "('RBB', 'FLSTM', 'LR+L2', 'RBW', 'RF') => 0.49\n",
      "('LR+L2', 'RF', 'FLSTM', 'RBB', 'RBW') => 0.49\n",
      "('LR+L2', 'RF', 'RBB', 'FLSTM') => 0.49\n",
      "('RF', 'LR+L2', 'RBW', 'FLSTM', 'RBB') => 0.49\n",
      "('RF', 'RBW', 'RBB', 'LR+L2', 'FLSTM') => 0.49\n",
      "('RF', 'RBW', 'FLSTM', 'LR+L2') => 0.49\n",
      "('RF', 'RBW', 'LR+L2', 'RBB', 'FLSTM') => 0.49\n",
      "('RF', 'LR+L2', 'FLSTM', 'RBB', 'RBW') => 0.49\n",
      "('RBW', 'RF', 'RBB', 'FLSTM', 'LR+L2') => 0.49\n",
      "('FLSTM', 'RF', 'RBW', 'LR+L2') => 0.49\n",
      "('FLSTM', 'RBW', 'RF', 'RBB', 'LR+L2') => 0.49\n",
      "('LR+L2', 'RF', 'FLSTM') => 0.49\n",
      "('RBB', 'FLSTM', 'LR+L2', 'RF', 'RBW') => 0.49\n",
      "('FLSTM', 'LR+L2', 'RF', 'RBW', 'RBB') => 0.49\n",
      "('RBB', 'FLSTM', 'LR+L2', 'RF') => 0.49\n",
      "('RF', 'FLSTM', 'LR+L2', 'RBB') => 0.49\n",
      "('RF', 'RBW', 'FLSTM', 'LR+L2', 'RBB') => 0.49\n",
      "('FLSTM', 'RBB', 'RBW', 'LR+L2', 'RF') => 0.49\n",
      "('RF', 'RBW', 'LR+L2', 'FLSTM') => 0.49\n",
      "('RBB', 'RF', 'LR+L2', 'FLSTM', 'RBW') => 0.49\n",
      "('RBW', 'RBB', 'RF', 'FLSTM', 'LR+L2') => 0.49\n",
      "('RBW', 'RBB', 'FLSTM', 'RF', 'LR+L2') => 0.49\n",
      "('RBW', 'RF', 'RBB', 'LR+L2', 'FLSTM') => 0.49\n",
      "('RBW', 'RF', 'LR+L2', 'RBB', 'FLSTM') => 0.49\n",
      "('RBB', 'RF', 'FLSTM', 'RBW', 'LR+L2') => 0.49\n",
      "('RF', 'RBB', 'LR+L2', 'FLSTM') => 0.49\n",
      "('RBW', 'RBB', 'LR+L2', 'FLSTM', 'RF') => 0.49\n",
      "('RF', 'LR+L2', 'FLSTM', 'RBB') => 0.49\n",
      "('RF', 'FLSTM', 'RBB', 'LR+L2') => 0.49\n",
      "('RBW', 'LR+L2', 'RF', 'FLSTM') => 0.49\n",
      "('LR+L2', 'RBB', 'RBW', 'FLSTM', 'RF') => 0.49\n",
      "('FLSTM', 'LR+L2', 'RBB', 'RF') => 0.49\n",
      "('FLSTM', 'RF', 'RBW', 'RBB', 'LR+L2') => 0.49\n",
      "('LR+L2', 'RBB', 'RF', 'RBW', 'FLSTM') => 0.49\n",
      "('RBW', 'FLSTM', 'RBB', 'RF', 'LR+L2') => 0.49\n",
      "('RBB', 'RBW', 'RF', 'FLSTM', 'LR+L2') => 0.49\n",
      "('RBB', 'RBW', 'FLSTM', 'RF', 'LR+L2') => 0.49\n",
      "('FLSTM', 'RF', 'RBW', 'LR+L2', 'RBB') => 0.49\n",
      "('FLSTM', 'RF', 'LR+L2', 'RBW', 'RBB') => 0.49\n",
      "('LR+L2', 'RF', 'FLSTM', 'RBW', 'RBB') => 0.49\n",
      "('RBW', 'LR+L2', 'RBB', 'RF', 'FLSTM') => 0.49\n",
      "('RF', 'FLSTM', 'RBW', 'LR+L2') => 0.49\n",
      "('FLSTM', 'LR+L2', 'RF', 'RBB') => 0.49\n",
      "('RF', 'FLSTM', 'RBW', 'RBB', 'LR+L2') => 0.49\n",
      "('LR+L2', 'FLSTM', 'RBW', 'RF') => 0.49\n",
      "('RF', 'RBW', 'RBB', 'FLSTM', 'LR+L2') => 0.49\n",
      "('RF', 'FLSTM', 'RBB', 'RBW', 'LR+L2') => 0.49\n",
      "('LR+L2', 'FLSTM', 'RBB', 'RF', 'RBW') => 0.49\n",
      "('RBW', 'LR+L2', 'FLSTM', 'RF') => 0.49\n",
      "('RF', 'LR+L2', 'RBB', 'FLSTM') => 0.49\n",
      "('LR+L2', 'RBW', 'RBB', 'FLSTM', 'RF') => 0.49\n",
      "('FLSTM', 'LR+L2', 'RBW', 'RBB', 'RF') => 0.49\n",
      "('FLSTM', 'LR+L2', 'RBB', 'RBW', 'RF') => 0.49\n",
      "('RBW', 'RF', 'FLSTM', 'LR+L2', 'RBB') => 0.49\n",
      "('RBW', 'FLSTM', 'LR+L2', 'RF', 'RBB') => 0.49\n",
      "('FLSTM', 'RBB', 'LR+L2', 'RF') => 0.49\n",
      "('LR+L2', 'RBB', 'RF', 'FLSTM') => 0.49\n",
      "('RBB', 'FLSTM', 'RF', 'RBW', 'LR+L2') => 0.49\n",
      "('FLSTM', 'RF', 'LR+L2', 'RBW') => 0.49\n",
      "('LR+L2', 'RF', 'FLSTM', 'RBW') => 0.49\n",
      "('RBB', 'RBW', 'FLSTM', 'LR+L2', 'RF') => 0.49\n",
      "('RF', 'RBB', 'LR+L2', 'FLSTM', 'RBW') => 0.49\n",
      "('RF', 'LR+L2', 'RBW', 'RBB', 'FLSTM') => 0.49\n",
      "('RF', 'LR+L2', 'RBB', 'RBW', 'FLSTM') => 0.49\n",
      "('LR+L2', 'FLSTM', 'RF', 'RBW', 'RBB') => 0.49\n",
      "('LR+L2', 'FLSTM', 'RF', 'RBB') => 0.49\n",
      "('LR+L2', 'RBW', 'RBB', 'RF', 'FLSTM') => 0.49\n",
      "('RBB', 'RF', 'LR+L2', 'FLSTM') => 0.49\n",
      "('RF', 'RBB', 'RBW', 'FLSTM', 'LR+L2') => 0.49\n",
      "('FLSTM', 'RF', 'LR+L2') => 0.49\n",
      "('RF', 'LR+L2', 'FLSTM') => 0.49\n",
      "('RBW', 'RBB', 'LR+L2', 'RF', 'FLSTM') => 0.49\n",
      "('LR+L2', 'RBB', 'FLSTM', 'RF') => 0.49\n",
      "('FLSTM', 'RBW', 'RF', 'LR+L2', 'RBB') => 0.49\n",
      "('FLSTM', 'RBB', 'LR+L2', 'RF', 'RBW') => 0.49\n",
      "('RBB', 'LR+L2', 'FLSTM', 'RBW', 'RF') => 0.49\n",
      "('RBB', 'FLSTM', 'RF', 'LR+L2') => 0.49\n",
      "('RBW', 'RF', 'FLSTM', 'LR+L2') => 0.49\n",
      "('RBB', 'LR+L2', 'RBW', 'RF', 'FLSTM') => 0.49\n",
      "('RBW', 'FLSTM', 'LR+L2', 'RF') => 0.49\n",
      "('FLSTM', 'RBB', 'RF', 'RBW', 'LR+L2') => 0.49\n",
      "('LR+L2', 'FLSTM', 'RBB', 'RF') => 0.49\n",
      "('FLSTM', 'RF', 'RBB', 'LR+L2') => 0.49\n",
      "('RBB', 'RBW', 'LR+L2', 'RF', 'FLSTM') => 0.49\n",
      "('LR+L2', 'RF', 'RBB', 'FLSTM', 'RBW') => 0.49\n",
      "('RBW', 'LR+L2', 'FLSTM', 'RBB', 'RF') => 0.49\n",
      "('LR+L2', 'RF', 'FLSTM', 'RBB') => 0.49\n",
      "('RF', 'FLSTM', 'LR+L2') => 0.49\n",
      "('FLSTM', 'RBW', 'RF', 'LR+L2') => 0.49\n",
      "('RF', 'LR+L2', 'FLSTM', 'RBW', 'RBB') => 0.49\n",
      "('FLSTM', 'LR+L2', 'RBW', 'RF') => 0.49\n",
      "('RF', 'LR+L2', 'RBB', 'FLSTM', 'RBW') => 0.49\n",
      "('FLSTM', 'RF', 'LR+L2', 'RBB') => 0.49\n",
      "('RBW', 'RF', 'FLSTM', 'RBB', 'LR+L2') => 0.49\n",
      "('FLSTM', 'RBW', 'RBB', 'RF', 'LR+L2') => 0.49\n",
      "('FLSTM', 'LR+L2', 'RBW', 'RF', 'RBB') => 0.49\n",
      "('RBB', 'LR+L2', 'RF', 'FLSTM') => 0.49\n",
      "('RBB', 'FLSTM', 'RF', 'LR+L2', 'RBW') => 0.49\n",
      "('LR+L2', 'RF', 'RBW', 'RBB', 'FLSTM') => 0.49\n",
      "('LR+L2', 'RF', 'RBB', 'RBW', 'FLSTM') => 0.49\n",
      "('FLSTM', 'RBW', 'RBB', 'LR+L2', 'RF') => 0.49\n",
      "('FLSTM', 'RBW', 'LR+L2', 'RBB', 'RF') => 0.49\n",
      "('RF', 'RBB', 'FLSTM', 'LR+L2') => 0.49\n",
      "('RF', 'RBW', 'LR+L2', 'FLSTM', 'RBB') => 0.49\n",
      "('FLSTM', 'LR+L2', 'RF', 'RBB', 'RBW') => 0.49\n",
      "('RBB', 'RF', 'RBW', 'FLSTM', 'LR+L2') => 0.49\n",
      "('RBB', 'RF', 'FLSTM', 'LR+L2', 'RBW') => 0.49\n",
      "('RBB', 'LR+L2', 'RF', 'FLSTM', 'RBW') => 0.49\n",
      "('RBB', 'LR+L2', 'FLSTM', 'RF', 'RBW') => 0.49\n",
      "('FLSTM', 'RF', 'RBB', 'RBW', 'LR+L2') => 0.49\n",
      "('RBW', 'RBB', 'FLSTM', 'LR+L2', 'RF') => 0.49\n",
      "('RBB', 'LR+L2', 'FLSTM', 'RF') => 0.49\n",
      "('FLSTM', 'RBW', 'LR+L2', 'RF') => 0.49\n",
      "('FLSTM', 'LR+L2', 'RBB', 'RF', 'RBW') => 0.49\n",
      "('LR+L2', 'RBB', 'FLSTM', 'RBW', 'RF') => 0.49\n",
      "('RF', 'RBB', 'RBW', 'LR+L2', 'FLSTM') => 0.49\n",
      "('LR+L2', 'RBW', 'FLSTM', 'RF') => 0.49\n",
      "('RF', 'RBB', 'LR+L2', 'RBW', 'FLSTM') => 0.49\n",
      "('RBB', 'RF', 'RBW', 'LR+L2', 'FLSTM') => 0.49\n",
      "('RBB', 'RF', 'LR+L2', 'RBW', 'FLSTM') => 0.49\n",
      "('LR+L2', 'RBW', 'RF', 'FLSTM', 'RBB') => 0.49\n",
      "('RBW', 'FLSTM', 'RF', 'RBB', 'LR+L2') => 0.49\n",
      "('LR+L2', 'RBW', 'FLSTM', 'RF', 'RBB') => 0.49\n",
      "('LR+L2', 'RBB', 'RBW', 'RF', 'FLSTM') => 0.49\n",
      "('LR+L2', 'RBW', 'RF', 'FLSTM') => 0.49\n",
      "('LR+L2', 'FLSTM', 'RF', 'RBW') => 0.49\n",
      "('RBW', 'LR+L2', 'RF', 'RBB', 'FLSTM') => 0.49\n",
      "('LR+L2', 'RF', 'RBW', 'FLSTM', 'RBB') => 0.49\n",
      "('RF', 'FLSTM', 'RBB', 'LR+L2', 'RBW') => 0.49\n",
      "('RF', 'FLSTM', 'LR+L2', 'RBB', 'RBW') => 0.49\n",
      "('RF', 'RBW', 'FLSTM', 'RBB', 'LR+L2') => 0.49\n",
      "('RF', 'FLSTM', 'LR+L2', 'RBW') => 0.49\n"
     ]
    }
   ],
   "source": [
    "for (sieves, f1) in performance:\n",
    "    if (f1 == best_f1):\n",
    "        print(\"{} => {}\".format(sieves, f1))"
   ]
  }
 ],
 "metadata": {
  "kernelspec": {
   "display_name": "Python 3",
   "language": "python",
   "name": "python3"
  },
  "language_info": {
   "codemirror_mode": {
    "name": "ipython",
    "version": 3
   },
   "file_extension": ".py",
   "mimetype": "text/x-python",
   "name": "python",
   "nbconvert_exporter": "python",
   "pygments_lexer": "ipython3",
   "version": "3.4.4"
  }
 },
 "nbformat": 4,
 "nbformat_minor": 0
}
